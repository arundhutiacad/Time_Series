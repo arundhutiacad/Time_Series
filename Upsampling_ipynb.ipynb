{
  "nbformat": 4,
  "nbformat_minor": 0,
  "metadata": {
    "colab": {
      "provenance": []
    },
    "kernelspec": {
      "name": "python3",
      "display_name": "Python 3"
    },
    "language_info": {
      "name": "python"
    }
  },
  "cells": [
    {
      "cell_type": "code",
      "source": [
        "import pandas as pd\n",
        "\n",
        "# Sample quarterly data\n",
        "data = {\n",
        "    'Date': ['2021-03-31', '2021-06-30', '2021-09-30', '2021-12-31'],\n",
        "    'Value': [10, 20, 30, 40]\n",
        "}\n",
        "df = pd.DataFrame(data)\n",
        "df['Date'] = pd.to_datetime(df['Date'])\n",
        "df.set_index('Date', inplace=True)\n"
      ],
      "metadata": {
        "id": "qzowf5shBNxX"
      },
      "execution_count": 1,
      "outputs": []
    },
    {
      "cell_type": "code",
      "source": [
        "# Upsample to monthly frequency and forward fill\n",
        "monthly_ffill = df.resample('M').ffill()\n",
        "print(monthly_ffill)\n"
      ],
      "metadata": {
        "colab": {
          "base_uri": "https://localhost:8080/"
        },
        "id": "RPfMofrJGldz",
        "outputId": "175f4d66-a37e-4f4a-f6cd-a3b81bd4d406"
      },
      "execution_count": 2,
      "outputs": [
        {
          "output_type": "stream",
          "name": "stdout",
          "text": [
            "            Value\n",
            "Date             \n",
            "2021-03-31     10\n",
            "2021-04-30     10\n",
            "2021-05-31     10\n",
            "2021-06-30     20\n",
            "2021-07-31     20\n",
            "2021-08-31     20\n",
            "2021-09-30     30\n",
            "2021-10-31     30\n",
            "2021-11-30     30\n",
            "2021-12-31     40\n"
          ]
        }
      ]
    },
    {
      "cell_type": "code",
      "source": [
        "# Upsample to monthly frequency and use linear interpolation\n",
        "monthly_linear = df.resample('M').interpolate(method='linear')\n",
        "print(monthly_linear)\n"
      ],
      "metadata": {
        "colab": {
          "base_uri": "https://localhost:8080/"
        },
        "id": "iVaByTLqGnms",
        "outputId": "8271f75f-e8b7-468a-ab2f-2267a4695c49"
      },
      "execution_count": 3,
      "outputs": [
        {
          "output_type": "stream",
          "name": "stdout",
          "text": [
            "                Value\n",
            "Date                 \n",
            "2021-03-31  10.000000\n",
            "2021-04-30  13.333333\n",
            "2021-05-31  16.666667\n",
            "2021-06-30  20.000000\n",
            "2021-07-31  23.333333\n",
            "2021-08-31  26.666667\n",
            "2021-09-30  30.000000\n",
            "2021-10-31  33.333333\n",
            "2021-11-30  36.666667\n",
            "2021-12-31  40.000000\n"
          ]
        }
      ]
    },
    {
      "cell_type": "code",
      "source": [
        "# Upsample to monthly frequency and use spline interpolation\n",
        "monthly_spline = df.resample('M').interpolate(method='spline', order=2)\n",
        "print(monthly_spline)\n"
      ],
      "metadata": {
        "colab": {
          "base_uri": "https://localhost:8080/"
        },
        "id": "SzOTkKW0GsjA",
        "outputId": "a6044bd6-5f00-4282-acff-30e8b56a5cee"
      },
      "execution_count": 4,
      "outputs": [
        {
          "output_type": "stream",
          "name": "stdout",
          "text": [
            "                Value\n",
            "Date                 \n",
            "2021-03-31  10.000000\n",
            "2021-04-30  13.300914\n",
            "2021-05-31  16.699982\n",
            "2021-06-30  20.000000\n",
            "2021-07-31  23.370275\n",
            "2021-08-31  26.750850\n",
            "2021-09-30  30.000000\n",
            "2021-10-31  33.384754\n",
            "2021-11-30  36.638478\n",
            "2021-12-31  40.000000\n"
          ]
        }
      ]
    },
    {
      "cell_type": "code",
      "source": [
        "# Upsample to monthly frequency and use polynomial interpolation\n",
        "monthly_poly = df.resample('M').interpolate(method='polynomial', order=2)\n",
        "print(monthly_poly)\n"
      ],
      "metadata": {
        "colab": {
          "base_uri": "https://localhost:8080/"
        },
        "id": "cJdUEhUNGz_7",
        "outputId": "4147903b-1a5c-4a9b-a412-994a1899d35b"
      },
      "execution_count": 5,
      "outputs": [
        {
          "output_type": "stream",
          "name": "stdout",
          "text": [
            "                Value\n",
            "Date                 \n",
            "2021-03-31  10.000000\n",
            "2021-04-30  13.310651\n",
            "2021-05-31  16.717245\n",
            "2021-06-30  20.000000\n",
            "2021-07-31  23.377767\n",
            "2021-08-31  26.743116\n",
            "2021-09-30  30.000000\n",
            "2021-10-31  33.367506\n",
            "2021-11-30  36.628376\n",
            "2021-12-31  40.000000\n"
          ]
        }
      ]
    }
  ]
}